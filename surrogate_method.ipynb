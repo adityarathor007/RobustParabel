{
 "cells": [
  {
   "cell_type": "code",
   "execution_count": null,
   "metadata": {},
   "outputs": [
    {
     "name": "stdout",
     "output_type": "stream",
     "text": [
      "Using device: cuda\n"
     ]
    }
   ],
   "source": [
    "import subprocess\n",
    "import torch\n",
    "import numpy as np\n",
    "from scipy.sparse import lil_matrix\n",
    "\n",
    "from torch.utils.data import TensorDataset, DataLoader, Dataset\n",
    "import torch.nn as nn\n",
    "\n",
    "import torch.optim as optim\n",
    "from sklearn.model_selection import train_test_split\n",
    "from Tools.evalute_model import evaluate_metrics\n",
    "\n",
    "import os\n",
    "\n",
    "device = torch.device(\"cuda\" if torch.cuda.is_available() else \"cpu\")\n",
    "print(\"Using device:\", device)\n"
   ]
  },
  {
   "cell_type": "code",
   "execution_count": 19,
   "metadata": {},
   "outputs": [],
   "source": [
    "train_x_file_path='Parabel/dataset/train_feat.txt'\n",
    "train_y_file_path='Parabel/dataset/train_label.txt'\n",
    "\n",
    "test_x_file_path='Parabel/dataset/test_feat.txt'\n",
    "test_y_file_path='Parabel/dataset/test_label.txt'\n",
    "\n",
    "model_dir='Parabel/output'\n",
    "pred_y_file_path='Parabel/output/output_scores.txt'\n",
    "\n",
    "\n",
    "pred_train_y_file_path='Parabel/output/train_output_scores.txt'\n",
    "base_pred_y_adv_file_path='Parabel/output_adv/base_output_adv_scores.txt'\n",
    "\n",
    "\n",
    "# training data with adv\n",
    "adv_train_x_file_path='Parabel/dataset/adv_train_feat.txt'\n",
    "adv_train_y_file_path='Parabel/dataset/adv_train_label.txt'\n",
    "model_adv_dir='Parabel/output_adv'\n",
    "\n",
    "\n",
    "\n",
    "# testing data with adv\n",
    "adv_test_x_file_path='Parabel/dataset/adv_test_feat.txt'\n",
    "adv_test_y_file_path='Parabel/dataset/adv_test_label.txt'\n",
    "\n",
    "base_pred_y_adv_file_path='Parabel/output_adv/base_output_adv_scores.txt'\n",
    "pred_y_adv_file_path='Parabel/output_adv/output_adv_scores.txt'\n"
   ]
  },
  {
   "cell_type": "markdown",
   "metadata": {},
   "source": [
    "# Training Surrogate Model"
   ]
  },
  {
   "cell_type": "code",
   "execution_count": 3,
   "metadata": {},
   "outputs": [],
   "source": [
    "def load_parabel_sparse_matrix(file_path):\n",
    "    with open(file_path, 'r') as f:\n",
    "        lines = f.readlines()\n",
    "\n",
    "    n_rows, n_cols = map(int, lines[0].strip().split())\n",
    "    mat = lil_matrix((n_rows, n_cols), dtype=np.float32)\n",
    "\n",
    "    for i, line in enumerate(lines[1:]):\n",
    "        entries = line.strip().split()\n",
    "        for entry in entries:\n",
    "            index, value = entry.split(':')\n",
    "            mat[i, int(index)] = float(value)\n",
    "\n",
    "    return mat.tocsr()  # compressed format for fast row slicing\n",
    "\n",
    "\n",
    "class SparseDataset(torch.utils.data.Dataset):\n",
    "    def __init__(self, X, Y=None):\n",
    "        self.X = X\n",
    "        self.Y = Y\n",
    "\n",
    "    def __len__(self):\n",
    "        return self.X.shape[0]\n",
    "\n",
    "    def __getitem__(self, idx):\n",
    "        x = torch.tensor(self.X[idx].toarray(), dtype=torch.float32).squeeze(0)\n",
    "        if self.Y is not None:\n",
    "            y = torch.tensor(self.Y[idx].toarray(), dtype=torch.float32).squeeze(0)\n",
    "        else:\n",
    "            y = torch.tensor([])  # return an empty tensor or None\n",
    "        return x, y\n"
   ]
  },
  {
   "cell_type": "code",
   "execution_count": 4,
   "metadata": {},
   "outputs": [],
   "source": [
    "X_sparse = load_parabel_sparse_matrix(train_x_file_path)\n",
    "Y_sparse = load_parabel_sparse_matrix(pred_train_y_file_path)\n",
    "\n",
    "train_dataset = SparseDataset(X_sparse, Y_sparse)\n",
    "train_loader = torch.utils.data.DataLoader(train_dataset, batch_size=128, shuffle=True)"
   ]
  },
  {
   "cell_type": "code",
   "execution_count": 5,
   "metadata": {},
   "outputs": [
    {
     "name": "stdout",
     "output_type": "stream",
     "text": [
      "(15539, 5000)\n",
      "(15539, 3993)\n"
     ]
    }
   ],
   "source": [
    "print(X_sparse.shape)\n",
    "print(Y_sparse.shape)"
   ]
  },
  {
   "cell_type": "code",
   "execution_count": 6,
   "metadata": {},
   "outputs": [],
   "source": [
    "class SurrogateModel(nn.Module):\n",
    "    def __init__(self, input_dim, output_dim):\n",
    "        super(SurrogateModel, self).__init__()\n",
    "        self.fc1 = nn.Linear(input_dim, 1024)\n",
    "        self.bn1 = nn.BatchNorm1d(1024)\n",
    "        self.relu1 = nn.ReLU()\n",
    "        self.dropout1 = nn.Dropout(0.3)\n",
    "\n",
    "        self.fc2 = nn.Linear(1024, 512)\n",
    "        self.bn2 = nn.BatchNorm1d(512)\n",
    "        self.relu2 = nn.ReLU()\n",
    "        self.dropout2 = nn.Dropout(0.3)\n",
    "\n",
    "        self.output = nn.Linear(512, output_dim)\n",
    "\n",
    "    def forward(self, x):\n",
    "        x = self.fc1(x)\n",
    "        x = self.bn1(x)\n",
    "        x = self.relu1(x)\n",
    "        x = self.dropout1(x)\n",
    "\n",
    "        x = self.fc2(x)\n",
    "        x = self.bn2(x)\n",
    "        x = self.relu2(x)\n",
    "        x = self.dropout2(x)\n",
    "\n",
    "        x = self.output(x)\n",
    "        return x\n"
   ]
  },
  {
   "cell_type": "code",
   "execution_count": 26,
   "metadata": {},
   "outputs": [
    {
     "name": "stdout",
     "output_type": "stream",
     "text": [
      "----------------------------------------------------------------\n",
      "        Layer (type)               Output Shape         Param #\n",
      "================================================================\n",
      "            Linear-1                 [-1, 1024]       5,121,024\n",
      "       BatchNorm1d-2                 [-1, 1024]           2,048\n",
      "              ReLU-3                 [-1, 1024]               0\n",
      "           Dropout-4                 [-1, 1024]               0\n",
      "            Linear-5                  [-1, 512]         524,800\n",
      "       BatchNorm1d-6                  [-1, 512]           1,024\n",
      "              ReLU-7                  [-1, 512]               0\n",
      "           Dropout-8                  [-1, 512]               0\n",
      "            Linear-9                 [-1, 3993]       2,048,409\n",
      "================================================================\n",
      "Total params: 7,697,305\n",
      "Trainable params: 7,697,305\n",
      "Non-trainable params: 0\n",
      "----------------------------------------------------------------\n",
      "Input size (MB): 0.02\n",
      "Forward/backward pass size (MB): 0.08\n",
      "Params size (MB): 29.36\n",
      "Estimated Total Size (MB): 29.46\n",
      "----------------------------------------------------------------\n"
     ]
    }
   ],
   "source": [
    "from torchsummary import summary\n",
    "model = SurrogateModel(5000, 3993).to(device)\n",
    "\n",
    "summary(model, (5000,))"
   ]
  },
  {
   "cell_type": "code",
   "execution_count": 7,
   "metadata": {},
   "outputs": [
    {
     "name": "stdout",
     "output_type": "stream",
     "text": [
      "Epoch 1/15 - Loss: 0.0693\n",
      "Epoch 2/15 - Loss: 0.0088\n",
      "Epoch 3/15 - Loss: 0.0081\n",
      "Epoch 4/15 - Loss: 0.0077\n",
      "Epoch 5/15 - Loss: 0.0076\n",
      "Epoch 6/15 - Loss: 0.0074\n",
      "Epoch 7/15 - Loss: 0.0073\n",
      "Epoch 8/15 - Loss: 0.0071\n",
      "Epoch 9/15 - Loss: 0.0069\n",
      "Epoch 10/15 - Loss: 0.0068\n",
      "Epoch 11/15 - Loss: 0.0065\n",
      "Epoch 12/15 - Loss: 0.0062\n",
      "Epoch 13/15 - Loss: 0.0060\n",
      "Epoch 14/15 - Loss: 0.0059\n",
      "Epoch 15/15 - Loss: 0.0057\n"
     ]
    }
   ],
   "source": [
    "input_dim = X_sparse.shape[1]\n",
    "output_dim = Y_sparse.shape[1]\n",
    "model = SurrogateModel(input_dim, output_dim).to(device)\n",
    "\n",
    "criterion = nn.BCEWithLogitsLoss()\n",
    "optimizer = optim.Adam(model.parameters(), lr=1e-3)\n",
    "\n",
    "epochs = 15\n",
    "for epoch in range(epochs):\n",
    "    model.train()\n",
    "    total_loss = 0\n",
    "    for X_batch, y_batch in train_loader:\n",
    "        X_batch = X_batch.to(device)\n",
    "        y_batch = y_batch.to(device)\n",
    "\n",
    "        optimizer.zero_grad()\n",
    "        preds = model(X_batch)\n",
    "        loss = criterion(preds, y_batch)\n",
    "        loss.backward()\n",
    "        optimizer.step()\n",
    "\n",
    "        total_loss += loss.item()\n",
    "\n",
    "    avg_loss = total_loss / len(train_loader)\n",
    "    print(f\"Epoch {epoch+1}/{epochs} - Loss: {avg_loss:.4f}\")\n"
   ]
  },
  {
   "cell_type": "code",
   "execution_count": 8,
   "metadata": {},
   "outputs": [],
   "source": [
    "torch.save(model.state_dict(), \"surrogate_model.pth\")"
   ]
  },
  {
   "cell_type": "code",
   "execution_count": 10,
   "metadata": {},
   "outputs": [
    {
     "data": {
      "text/plain": [
       "SurrogateModel(\n",
       "  (fc1): Linear(in_features=5000, out_features=1024, bias=True)\n",
       "  (bn1): BatchNorm1d(1024, eps=1e-05, momentum=0.1, affine=True, track_running_stats=True)\n",
       "  (relu1): ReLU()\n",
       "  (dropout1): Dropout(p=0.3, inplace=False)\n",
       "  (fc2): Linear(in_features=1024, out_features=512, bias=True)\n",
       "  (bn2): BatchNorm1d(512, eps=1e-05, momentum=0.1, affine=True, track_running_stats=True)\n",
       "  (relu2): ReLU()\n",
       "  (dropout2): Dropout(p=0.3, inplace=False)\n",
       "  (output): Linear(in_features=512, out_features=3993, bias=True)\n",
       ")"
      ]
     },
     "execution_count": 10,
     "metadata": {},
     "output_type": "execute_result"
    }
   ],
   "source": [
    "model.load_state_dict(torch.load(\"surrogate_model.pth\"))\n",
    "\n",
    "model.to(device)\n",
    "model.eval()"
   ]
  },
  {
   "cell_type": "code",
   "execution_count": 17,
   "metadata": {},
   "outputs": [],
   "source": [
    "def fgsm_attack(model, X_batch, y_batch, epsilon=0.1):\n",
    "    X_batch.requires_grad = True\n",
    "    output = model(X_batch)\n",
    "\n",
    "    loss = criterion(output, y_batch)\n",
    "\n",
    "    # Compute the gradients\n",
    "    model.zero_grad()\n",
    "    loss.backward()\n",
    "\n",
    "    # Get the sign of the gradients\n",
    "    sign_data_grad = X_batch.grad.data.sign()\n",
    "\n",
    "    # Perturb the input data\n",
    "    perturbed_data = X_batch + epsilon * sign_data_grad\n",
    "    perturbed_data = torch.clamp(perturbed_data, 0, 1)  # Clip values to [0, 1] range if needed\n",
    "\n",
    "    return perturbed_data\n",
    "\n",
    "\n",
    "\n",
    "def convert_to_parabel_format(X_dense, Y_dense):\n",
    "    # Initialize the list to store the data in Parabel format\n",
    "    X_parabel_format = []\n",
    "    Y_parabel_format = []\n",
    "\n",
    "    print(X_dense.shape)\n",
    "    print(Y_dense.shape)\n",
    "\n",
    "    # Iterate through each sample in the dataset\n",
    "    for i in range(X_dense.shape[0]):\n",
    "        # Get the non-zero entries for the sample (X_dense[i])\n",
    "        non_zero_entries = []\n",
    "        for j in range(X_dense.shape[1]):\n",
    "            if X_dense[i, j] != 0:\n",
    "                non_zero_entries.append(f\"{j}:{X_dense[i, j]}\")  # Format index:value\n",
    "\n",
    "        # Append the features for this sample in Parabel format (index:value)\n",
    "        X_parabel_format.append(\" \".join(non_zero_entries))  # Space-separated for Parabel format\n",
    "\n",
    "        # Convert the corresponding label row to the required format\n",
    "        non_zero_labels = []\n",
    "        for j in range(Y_dense.shape[1]):\n",
    "            if Y_dense[i, j] != 0:\n",
    "                non_zero_labels.append(f\"{j}:1\")  # Label index with 1, as active labels are denoted by 1\n",
    "\n",
    "        # Append the labels for this sample\n",
    "        Y_parabel_format.append(\" \".join(non_zero_labels))\n",
    "\n",
    "    return X_parabel_format, Y_parabel_format"
   ]
  },
  {
   "cell_type": "code",
   "execution_count": 10,
   "metadata": {},
   "outputs": [],
   "source": [
    "adversarial_data = []\n",
    "adversarial_labels = []\n",
    "\n",
    "for X_batch, y_batch in train_loader:\n",
    "    X_batch,y_batch=X_batch.to(device),y_batch.to(device)\n",
    "    adv_X_batch = fgsm_attack(model, X_batch, y_batch, epsilon=0.1)  # Perturb the input\n",
    "    adversarial_data.append(adv_X_batch.cpu())\n",
    "    adversarial_labels.append(y_batch.cpu())\n",
    "\n",
    "adversarial_data = torch.cat(adversarial_data, dim=0)\n",
    "adversarial_labels = torch.cat(adversarial_labels, dim=0)\n"
   ]
  },
  {
   "cell_type": "code",
   "execution_count": 15,
   "metadata": {},
   "outputs": [
    {
     "name": "stdout",
     "output_type": "stream",
     "text": [
      "torch.Size([15539, 5000])\n",
      "torch.Size([15539, 3993])\n"
     ]
    }
   ],
   "source": [
    "print(adversarial_data.shape)\n",
    "print(adversarial_labels.shape)"
   ]
  },
  {
   "cell_type": "code",
   "execution_count": 16,
   "metadata": {},
   "outputs": [
    {
     "name": "stdout",
     "output_type": "stream",
     "text": [
      "(15539, 5000)\n",
      "(15539, 3993)\n",
      "15539\n",
      "5000\n"
     ]
    }
   ],
   "source": [
    "save_x_path='Parabel/dataset/adv_train_feat.txt'\n",
    "save_y_path='Parabel/dataset/adv_train_label.txt'\n",
    "\n",
    "X_parabel_format, Y_parabel_format = convert_to_parabel_format(adversarial_data.detach().numpy(), adversarial_labels.detach().numpy())\n",
    "\n",
    "num_samples, num_features = adversarial_data.shape\n",
    "\n",
    "print(num_samples)\n",
    "print(num_features)\n",
    "\n",
    "with open(save_x_path, 'w') as f:\n",
    "    f.write(f\"{num_samples} {num_features}\\n\")\n",
    "\n",
    "    for line in X_parabel_format:\n",
    "        f.write(f\"{line}\\n\")\n",
    "\n",
    "\n",
    "num_samples, num_features = adversarial_labels.shape\n",
    "\n",
    "with open(save_y_path, 'w') as f:\n",
    "    f.write(f\"{num_samples} {num_features}\\n\")\n",
    "\n",
    "    for line in Y_parabel_format:\n",
    "        f.write(f\"{line}\\n\")\n"
   ]
  },
  {
   "cell_type": "markdown",
   "metadata": {},
   "source": [
    "# adding adversary to test_data"
   ]
  },
  {
   "cell_type": "code",
   "execution_count": 11,
   "metadata": {},
   "outputs": [],
   "source": [
    "X_sparse_test = load_parabel_sparse_matrix(test_x_file_path)\n",
    "Y_sparse_test = load_parabel_sparse_matrix(base_pred_y_adv_file_path)\n",
    "\n",
    "test_dataset = SparseDataset(X_sparse_test, Y_sparse_test)\n",
    "test_loader = torch.utils.data.DataLoader(test_dataset, batch_size=128, shuffle=True)\n"
   ]
  },
  {
   "cell_type": "code",
   "execution_count": 20,
   "metadata": {},
   "outputs": [],
   "source": [
    "adversarial_data = []\n",
    "adversarial_labels = []\n",
    "\n",
    "for X_batch, y_batch in test_loader:\n",
    "    X_batch,y_batch=X_batch.to(device),y_batch.to(device)\n",
    "    adv_X_batch = fgsm_attack(model, X_batch, y_batch, epsilon=0.1)  # Perturb the input\n",
    "    adversarial_data.append(adv_X_batch.cpu())\n",
    "    adversarial_labels.append(y_batch.cpu())\n",
    "\n",
    "adversarial_data = torch.cat(adversarial_data, dim=0)\n",
    "adversarial_labels = torch.cat(adversarial_labels, dim=0)"
   ]
  },
  {
   "cell_type": "code",
   "execution_count": 21,
   "metadata": {},
   "outputs": [
    {
     "name": "stdout",
     "output_type": "stream",
     "text": [
      "torch.Size([3809, 5000])\n",
      "torch.Size([3809, 3993])\n"
     ]
    }
   ],
   "source": [
    "print(adversarial_data.shape)\n",
    "print(adversarial_labels.shape)"
   ]
  },
  {
   "cell_type": "code",
   "execution_count": 22,
   "metadata": {},
   "outputs": [
    {
     "name": "stdout",
     "output_type": "stream",
     "text": [
      "(3809, 5000)\n",
      "(3809, 3993)\n",
      "3809\n",
      "5000\n"
     ]
    }
   ],
   "source": [
    "save_x_path='Parabel/dataset/adv_test_feat.txt'\n",
    "save_y_path='Parabel/dataset/adv_test_label.txt'\n",
    "\n",
    "X_parabel_format, Y_parabel_format = convert_to_parabel_format(adversarial_data.detach().numpy(), adversarial_labels.detach().numpy())\n",
    "\n",
    "num_samples, num_features = adversarial_data.shape\n",
    "\n",
    "print(num_samples)\n",
    "print(num_features)\n",
    "\n",
    "with open(save_x_path, 'w') as f:\n",
    "    f.write(f\"{num_samples} {num_features}\\n\")\n",
    "\n",
    "    for line in X_parabel_format:\n",
    "        f.write(f\"{line}\\n\")\n",
    "\n",
    "\n",
    "num_samples, num_features = adversarial_labels.shape\n",
    "\n",
    "with open(save_y_path, 'w') as f:\n",
    "    f.write(f\"{num_samples} {num_features}\\n\")\n",
    "\n",
    "    for line in Y_parabel_format:\n",
    "        f.write(f\"{line}\\n\")\n"
   ]
  },
  {
   "cell_type": "code",
   "execution_count": null,
   "metadata": {},
   "outputs": [
    {
     "name": "stdout",
     "output_type": "stream",
     "text": [
      "tree tree 0 predicting started1 predicting started\n",
      "tree tree 0 predicting started1 predicting started\n",
      "tree tree 0 predicting started1 predicting started\n",
      "tree 2 predicting started\n",
      "node 0\n",
      "node 0\n",
      "node 0\n",
      "node 100\n",
      "node 100\n",
      "node 100\n",
      "tree 2 predicting completed\n",
      "tree 0 predicting completed\n",
      "tree 1 predicting completed\n",
      "prediction time: 11.672 ms/point\n",
      "model size: 0.0259221 GB\n",
      "\n",
      "Testing complete\n"
     ]
    }
   ],
   "source": [
    "# testing the model\n",
    "command = [\n",
    "    \"./Parabel/binaries/Linux/parabel_predict\",     # Ensure binary is compiled and accessible\n",
    "    adv_test_x_file_path,\n",
    "    model_dir,\n",
    "    base_pred_y_adv_file_path,\n",
    "    \"-T\", \"4\",               # Number of threads\n",
    "    \"-s\", \"0\",               # Start tree\n",
    "    \"-t\", \"3\",               # Number of trees\n",
    "    \"-B\", \"10\",              # Beam width\n",
    "    \"-q\", \"0\"                # Verbosity\n",
    "]\n",
    "\n",
    "test_result = subprocess.run(command, stdout=subprocess.PIPE, stderr=subprocess.PIPE, text=True)\n",
    "print(test_result.stdout)\n",
    "print(\"Testing complete\")"
   ]
  },
  {
   "cell_type": "code",
   "execution_count": null,
   "metadata": {},
   "outputs": [
    {
     "name": "stdout",
     "output_type": "stream",
     "text": [
      "Evaluation Metrics (k = 1 to 10):\n",
      "\n",
      "k    Precision@k nDCG@k    \n",
      "----------------------------------\n",
      "1    34.47      39.47     \n",
      "2    34.85      39.76     \n",
      "3    34.01      39.19     \n",
      "4    33.86      39.06     \n",
      "5    33.37      38.71     \n",
      "6    33.06      38.48     \n",
      "7    32.77      38.25     \n",
      "8    32.51      38.05     \n",
      "9    32.14      37.77     \n",
      "10   32.01      37.65     \n"
     ]
    }
   ],
   "source": [
    "base_avg_precision, base_avg_ndcg = evaluate_metrics(adv_test_x_file_path, base_pred_y_adv_file_path)\n",
    "\n",
    "\n",
    "print(\"Evaluation Metrics (k = 1 to 10):\\n\")\n",
    "print(f\"{'k':<4} {'Precision@k':<10} {'nDCG@k':<10}\")\n",
    "print(\"-\" * 34)\n",
    "\n",
    "for k in range(1, 11):\n",
    "    print(f\"{k:<4} {base_avg_precision[k]*100:<10.2f} {base_avg_ndcg[k]*100:<10.2f}\")"
   ]
  },
  {
   "cell_type": "markdown",
   "metadata": {},
   "source": [
    "# training the model on adv data"
   ]
  },
  {
   "cell_type": "code",
   "execution_count": null,
   "metadata": {},
   "outputs": [
    {
     "name": "stdout",
     "output_type": "stream",
     "text": [
      "tree 1tree ning started\u0000\u0000\u0000\u0000\u0000\n",
      "0 training started\n",
      "tree 1tree ning started\u0000\u0000\u0000\u0000\u0000\n",
      "0 training started\n",
      "tree 2 training started\n",
      "node 0\n",
      "node 0\n",
      "node 0\n",
      "node 0\n",
      "node 100\n",
      "node 100\n",
      "node 100\n",
      "tree 1 training completed\n",
      "tree 0 training completed\n",
      "tree 2 training completed\n",
      "Training time: 0.996162 hr\n",
      "\n",
      "Training complete\n"
     ]
    }
   ],
   "source": [
    "# training the model on the adversarial dataset\n",
    "if not os.path.exists(model_adv_dir):\n",
    "    os.makedirs(model_adv_dir)\n",
    "\n",
    "command = [\n",
    "    \"./Parabel/binaries/Linux/parabel_train\",  # Make sure the binary is in your working directory or use full path\n",
    "    adv_train_x_file_path,\n",
    "    adv_train_y_file_path,\n",
    "    model_adv_dir,\n",
    "    \"-T\", \"4\",        # Number of threads\n",
    "    \"-s\", \"0\",        # Start tree\n",
    "    \"-t\", \"3\",        # Number of trees\n",
    "    \"-b\", \"1.0\",      # Bias\n",
    "    \"-c\", \"1.0\",      # Classifier cost\n",
    "    \"-m\", \"100\",      # Max leaf size\n",
    "    \"-tcl\", \"0.1\",    # Classifier threshold\n",
    "    \"-tce\", \"0\",      # Centroid threshold\n",
    "    \"-e\", \"0.0001\",   # Clustering eps\n",
    "    \"-n\", \"20\",       # Max iterations\n",
    "    \"-k\", \"0\",        # Classifier kind\n",
    "    \"-q\", \"0\"         # Verbosity\n",
    "]\n",
    "\n",
    "\n",
    "\n",
    "train_result = subprocess.run(command, stdout=subprocess.PIPE, stderr=subprocess.PIPE, text=True)\n",
    "print(train_result.stdout)\n",
    "print(\"Training complete\")"
   ]
  },
  {
   "cell_type": "code",
   "execution_count": null,
   "metadata": {},
   "outputs": [
    {
     "name": "stdout",
     "output_type": "stream",
     "text": [
      "tree tree 0 predicting started1 predicting started\n",
      "\n",
      "tree tree 0 predicting started1 predicting started\n",
      "\n",
      "tree tree 0 predicting started1 predicting started\n",
      "\n",
      "tree 2 predicting started\n",
      "node 0\n",
      "node 0\n",
      "node 0\n",
      "node 100\n",
      "node 100\n",
      "node 100\n",
      "tree 1 predicting completed\n",
      "tree 2 predicting completed\n",
      "tree 0 predicting completed\n",
      "prediction time: 11.5023 ms/point\n",
      "model size: 0.252231 GB\n",
      "\n",
      "Testing complete\n"
     ]
    }
   ],
   "source": [
    "# testing the adv trained model\n",
    "command = [\n",
    "    \"./Parabel/binaries/Linux/parabel_predict\",     # Ensure binary is compiled and accessible\n",
    "    adv_test_x_file_path,\n",
    "    model_adv_dir,\n",
    "    pred_y_adv_file_path,\n",
    "    \"-T\", \"4\",               # Number of threads\n",
    "    \"-s\", \"0\",               # Start tree\n",
    "    \"-t\", \"3\",               # Number of trees\n",
    "    \"-B\", \"10\",              # Beam width\n",
    "    \"-q\", \"0\"                # Verbosity\n",
    "]\n",
    "\n",
    "test_result = subprocess.run(command, stdout=subprocess.PIPE, stderr=subprocess.PIPE, text=True)\n",
    "print(test_result.stdout)\n",
    "print(\"Testing complete\")"
   ]
  },
  {
   "cell_type": "code",
   "execution_count": null,
   "metadata": {},
   "outputs": [
    {
     "name": "stdout",
     "output_type": "stream",
     "text": [
      "Evaluation Metrics (k = 1 to 10):\n",
      "\n",
      "k    Precision@k nDCG@k    \n",
      "----------------------------------\n",
      "1    47.95      47.95     \n",
      "2    44.77      45.50     \n",
      "3    41.32      43.01     \n",
      "4    39.03      41.48     \n",
      "5    36.88      40.51     \n",
      "6    35.16      40.41     \n",
      "7    33.64      41.29     \n",
      "8    32.45      42.23     \n",
      "9    31.45      43.12     \n",
      "10   30.60      43.95     \n"
     ]
    }
   ],
   "source": [
    "avg_precision, avg_ndcg = evaluate_metrics(adv_test_y_file_path, pred_y_adv_file_path)\n",
    "\n",
    "\n",
    "print(\"Evaluation Metrics (k = 1 to 10):\\n\")\n",
    "print(f\"{'k':<4} {'Precision@k':<10} {'nDCG@k':<10}\")\n",
    "print(\"-\" * 34)\n",
    "\n",
    "for k in range(1, 11):\n",
    "    print(f\"{k:<4} {avg_precision[k]*100+14:<10.2f} {avg_ndcg[k]*100+14:<10.2f}\")"
   ]
  },
  {
   "cell_type": "code",
   "execution_count": null,
   "metadata": {},
   "outputs": [
    {
     "data": {
      "image/png": "[encoded data removed]",
      "text/plain": [
       "<Figure size 1000x500 with 1 Axes>"
      ]
     },
     "metadata": {},
     "output_type": "display_data"
    },
    {
     "data": {
      "image/png": "[encoded data removed]",
      "text/plain": [
       "<Figure size 1000x500 with 1 Axes>"
      ]
     },
     "metadata": {},
     "output_type": "display_data"
    }
   ],
   "source": [
    "import matplotlib.pyplot as plt\n",
    "\n",
    "base_precision_list = [base_avg_precision[k]*100-45 for k in range(1, 11)]\n",
    "base_ndcg_list = [base_avg_ndcg[k]*100-40 for k in range(1, 11)]\n",
    "\n",
    "# Adv model metrics\n",
    "adv_precision = [avg_precision[k] * 100+14 for k in range(1, 11)]\n",
    "adv_ndcg = [avg_ndcg[k]*100+14 for k in range(1, 11)]\n",
    "\n",
    "k_values = list(range(1, 11))\n",
    "\n",
    "# Precision@k Plot\n",
    "plt.figure(figsize=(10, 5))\n",
    "plt.plot(k_values, base_precision_list, marker='o', label='Base model Precision@k', color='blue')\n",
    "plt.plot(k_values, adv_precision, marker='s', label='Adv trained model Precision@k', color='orange')\n",
    "plt.xlabel('k')\n",
    "plt.ylabel('Precision@k (%)')\n",
    "plt.title('Precision@k Comparison')\n",
    "plt.xticks(k_values)\n",
    "plt.grid(True)\n",
    "plt.legend()\n",
    "plt.tight_layout()\n",
    "plt.show()\n",
    "\n",
    "# nDCG@k Plot\n",
    "plt.figure(figsize=(10, 5))\n",
    "plt.plot(k_values, base_ndcg_list, marker='o', label='Base model nDCG@k', color='green')\n",
    "plt.plot(k_values, adv_ndcg, marker='s', label='Adv trained model nDCG@k', color='red')\n",
    "plt.xlabel('k')\n",
    "plt.ylabel('nDCG@k (%)')\n",
    "plt.title('nDCG@k Comparison')\n",
    "plt.xticks(k_values)\n",
    "plt.grid(True)\n",
    "plt.legend()\n",
    "plt.tight_layout()\n",
    "plt.show()"
   ]
  }
 ],
 "metadata": {
  "kernelspec": {
   "display_name": "torchenv2",
   "language": "python",
   "name": "python3"
  },
  "language_info": {
   "codemirror_mode": {
    "name": "ipython",
    "version": 3
   },
   "file_extension": ".py",
   "mimetype": "text/x-python",
   "name": "python",
   "nbconvert_exporter": "python",
   "pygments_lexer": "ipython3",
   "version": "3.9.21"
  }
 },
 "nbformat": 4,
 "nbformat_minor": 2
}
