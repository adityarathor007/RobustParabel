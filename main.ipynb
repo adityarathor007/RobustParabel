{
 "cells": [
  {
   "cell_type": "code",
   "execution_count": 1,
   "metadata": {},
   "outputs": [],
   "source": [
    "import subprocess\n",
    "import numpy as np\n",
    "from Tools.evalute_model import evaluate_metrics\n",
    "import os"
   ]
  },
  {
   "cell_type": "code",
   "execution_count": 37,
   "metadata": {},
   "outputs": [],
   "source": [
    "perl_file_path='utils/convert_format.pl'\n",
    "\n",
    "original_train_src='Eurlex/eurlex_train.txt'\n",
    "original_test_src='Eurlex/eurlex_test.txt'\n",
    "\n",
    "train_x_file_path='Parabel/dataset/train_feat.txt'\n",
    "train_y_file_path='Parabel/dataset/train_label.txt'\n",
    "\n",
    "test_x_file_path='Parabel/dataset/test_feat.txt'\n",
    "test_y_file_path='Parabel/dataset/test_label.txt'\n",
    "\n",
    "model_dir='Parabel/output'\n",
    "pred_y_file_path='Parabel/output/output_scores.txt'\n",
    "pred_train_y_file_path='Parabel/output/train_output_scores.txt'\n"
   ]
  },
  {
   "cell_type": "markdown",
   "metadata": {},
   "source": [
    "# Converting data into required format"
   ]
  },
  {
   "cell_type": "code",
   "execution_count": 19,
   "metadata": {},
   "outputs": [
    {
     "name": "stdout",
     "output_type": "stream",
     "text": [
      "Converted train data in required format\n",
      "Converted train data in the required format\n"
     ]
    }
   ],
   "source": [
    "directory = os.path.dirname(train_x_file_path)\n",
    "\n",
    "\n",
    "if not os.path.exists(directory):\n",
    "    os.makedirs(directory)\n",
    "\n",
    "command=[\"perl\",perl_file_path,original_train_src,train_x_file_path,train_y_file_path]\n",
    "converstion_train_output = subprocess.run(command, stdout=subprocess.PIPE, stderr=subprocess.PIPE, text=True)\n",
    "print(\"Converted train data in required format\")\n",
    "\n",
    "\n",
    "command=[\"perl\",perl_file_path,original_test_src,test_x_file_path,test_y_file_path]\n",
    "conversation_test_output = subprocess.run(command, stdout=subprocess.PIPE, stderr=subprocess.PIPE, text=True)\n",
    "print(\"Converted train data in the required format\")"
   ]
  },
  {
   "cell_type": "code",
   "execution_count": 19,
   "metadata": {},
   "outputs": [
    {
     "name": "stdout",
     "output_type": "stream",
     "text": [
      "tree 0 training startedtree \n",
      "1 training started\n",
      "tree 0 training startedtree \n",
      "1 training started\n",
      "tree 2 training started\n",
      "node 0\n",
      "node 0\n",
      "node 0\n",
      "node 0\n",
      "node 100\n",
      "node 100\n",
      "node 100\n",
      "tree 0 training completed\n",
      "tree 2 training completed\n",
      "tree 1 training completed\n",
      "Training time: 0.0206362 hr\n",
      "\n",
      "Training complete\n"
     ]
    }
   ],
   "source": [
    "# training the model\n",
    "if not os.path.exists(model_dir):\n",
    "    os.makedirs(model_dir)\n",
    "\n",
    "command = [\n",
    "    \"./Parabel/binaries/Linux/parabel_train\",\n",
    "    train_x_file_path,\n",
    "    train_y_file_path,\n",
    "    model_dir,\n",
    "    \"-T\", \"4\",\n",
    "    \"-s\", \"0\",\n",
    "    \"-t\", \"3\",\n",
    "    \"-b\", \"1.0\",\n",
    "    \"-c\", \"1.0\",\n",
    "    \"-m\", \"100\",\n",
    "    \"-tcl\", \"0.1\",\n",
    "    \"-tce\", \"0\",\n",
    "    \"-e\", \"0.0001\",\n",
    "    \"-n\", \"20\",\n",
    "    \"-k\", \"0\",\n",
    "    \"-q\", \"0\"\n",
    "]\n",
    "\n",
    "\n",
    "\n",
    "train_result = subprocess.run(command, stdout=subprocess.PIPE, stderr=subprocess.PIPE, text=True)\n",
    "print(train_result.stdout)\n",
    "print(\"Training complete\")"
   ]
  },
  {
   "cell_type": "code",
   "execution_count": 23,
   "metadata": {},
   "outputs": [
    {
     "name": "stdout",
     "output_type": "stream",
     "text": [
      "tree 0 predicting started\n",
      "tree 1 predicting started\n",
      "tree 2 predicting started\n",
      "node 0\n",
      "node 0\n",
      "node 0\n",
      "node 100\n",
      "node 100\n",
      "node 100\n",
      "tree 0 predicting completed\n",
      "tree 1 predicting completed\n",
      "tree 2 predicting completed\n",
      "prediction time: 1.25592 ms/point\n",
      "model size: 0.0259221 GB\n",
      "\n",
      "Testing complete\n"
     ]
    }
   ],
   "source": [
    "# testing the model\n",
    "command = [\n",
    "    \"./Parabel/binaries/Linux/parabel_predict\",     # Ensure binary is compiled and accessible\n",
    "    test_x_file_path,\n",
    "    model_dir,\n",
    "    pred_y_file_path,\n",
    "    \"-T\", \"4\",               # Number of threads\n",
    "    \"-s\", \"0\",               # Start tree\n",
    "    \"-t\", \"3\",               # Number of trees\n",
    "    \"-B\", \"10\",              # Beam width\n",
    "    \"-q\", \"0\"                # Verbosity\n",
    "]\n",
    "\n",
    "test_result = subprocess.run(command, stdout=subprocess.PIPE, stderr=subprocess.PIPE, text=True)\n",
    "print(test_result.stdout)\n",
    "print(\"Testing complete\")"
   ]
  },
  {
   "cell_type": "code",
   "execution_count": 24,
   "metadata": {},
   "outputs": [
    {
     "name": "stdout",
     "output_type": "stream",
     "text": [
      "Evaluation Metrics (k = 1 to 10):\n",
      "\n",
      "k    Precision@k nDCG@k    \n",
      "----------------------------------\n",
      "1    82.17      82.17     \n",
      "2    75.18      76.78     \n",
      "3    68.81      72.28     \n",
      "4    63.02      68.76     \n",
      "5    57.58      66.60     \n",
      "6    52.56      66.08     \n",
      "7    47.88      67.59     \n",
      "8    43.78      68.86     \n",
      "9    40.27      69.93     \n",
      "10   37.25      70.81     \n"
     ]
    }
   ],
   "source": [
    "avg_precision, avg_ndcg = evaluate_metrics(test_y_file_path, pred_y_file_path)\n",
    "\n",
    "\n",
    "print(\"Evaluation Metrics (k = 1 to 10):\\n\")\n",
    "print(f\"{'k':<4} {'Precision@k':<10} {'nDCG@k':<10}\")\n",
    "print(\"-\" * 34)\n",
    "\n",
    "for k in range(1, 11):\n",
    "    print(f\"{k:<4} {avg_precision[k]*100:<10.2f} {avg_ndcg[k]*100:<10.2f}\")"
   ]
  },
  {
   "cell_type": "code",
   "execution_count": 27,
   "metadata": {},
   "outputs": [
    {
     "name": "stdout",
     "output_type": "stream",
     "text": [
      "tree tree 10 predicting started\n",
      "tree tree 10 predicting started\n",
      "tree tree 10 predicting started\n",
      "tree 2 predicting started\n",
      "node 0\n",
      "node 0\n",
      "node 0\n",
      "node 100\n",
      "node 100\n",
      "node 100\n",
      "tree 2 predicting completed\n",
      "tree 1 predicting completed\n",
      "tree 0 predicting completed\n",
      "prediction time: 1.34458 ms/point\n",
      "model size: 0.0259221 GB\n",
      "\n",
      "Testing on training dataset complete\n"
     ]
    }
   ],
   "source": [
    "# testing the model on train dataset to be used by NN to create surrogate model\n",
    "\n",
    "command = [\n",
    "    \"./Parabel/binaries/Linux/parabel_predict\",     # Ensure binary is compiled and accessible\n",
    "    train_x_file_path,\n",
    "    model_dir,\n",
    "    pred_train_y_file_path,\n",
    "    \"-T\", \"4\",               # Number of threads\n",
    "    \"-s\", \"0\",               # Start tree\n",
    "    \"-t\", \"3\",               # Number of trees\n",
    "    \"-B\", \"10\",              # Beam width\n",
    "    \"-q\", \"0\"                # Verbosity\n",
    "]\n",
    "\n",
    "test_result = subprocess.run(command, stdout=subprocess.PIPE, stderr=subprocess.PIPE, text=True)\n",
    "print(test_result.stdout)\n",
    "print(\"Testing on training dataset complete\")"
   ]
  }
 ],
 "metadata": {
  "kernelspec": {
   "display_name": "torchenv2",
   "language": "python",
   "name": "python3"
  },
  "language_info": {
   "codemirror_mode": {
    "name": "ipython",
    "version": 3
   },
   "file_extension": ".py",
   "mimetype": "text/x-python",
   "name": "python",
   "nbconvert_exporter": "python",
   "pygments_lexer": "ipython3",
   "version": "3.9.21"
  }
 },
 "nbformat": 4,
 "nbformat_minor": 2
}
